{
 "cells": [
  {
   "cell_type": "markdown",
   "id": "a862778a",
   "metadata": {},
   "source": [
    "<h3>Taking variable inputs for each set</h3>"
   ]
  },
  {
   "cell_type": "markdown",
   "id": "70fe33b3",
   "metadata": {},
   "source": [
    "<h4>Taking input of no.of elements of the set</h4>"
   ]
  },
  {
   "cell_type": "code",
   "execution_count": 14,
   "id": "d718e990",
   "metadata": {},
   "outputs": [
    {
     "name": "stdout",
     "output_type": "stream",
     "text": [
      "Total no.of elements you want in set A:5\n"
     ]
    }
   ],
   "source": [
    "a = int(input(\"Total no.of elements you want in set A:\"))"
   ]
  },
  {
   "cell_type": "markdown",
   "id": "9adff1f4",
   "metadata": {},
   "source": [
    "<h4>Getting each elements of the sets</h4>"
   ]
  },
  {
   "cell_type": "code",
   "execution_count": 16,
   "id": "e3d522ab",
   "metadata": {},
   "outputs": [
    {
     "name": "stdout",
     "output_type": "stream",
     "text": [
      "Enter the number 0 :\n",
      "5\n",
      "Enter the number 1 :\n",
      "6\n",
      "Enter the number 2 :\n",
      "7\n",
      "Enter the number 3 :\n",
      "8\n",
      "Enter the number 4 :\n",
      "9\n",
      "Set-A is: {5, 6, 7, 8, 9}\n"
     ]
    }
   ],
   "source": [
    "set_a = set()\n",
    "for i in range(0,a):\n",
    "    print(\"Enter the number\",i,\":\")\n",
    "    number = int(input())\n",
    "    set_a.add(number)\n",
    "print(\"Set-A is:\",set_a)"
   ]
  },
  {
   "cell_type": "code",
   "execution_count": 10,
   "id": "f9f490c9",
   "metadata": {},
   "outputs": [
    {
     "name": "stdout",
     "output_type": "stream",
     "text": [
      "Total no.of elements you want in set B:7\n"
     ]
    }
   ],
   "source": [
    "b = int(input(\"Total no.of elements you want in set B:\"))"
   ]
  },
  {
   "cell_type": "code",
   "execution_count": 11,
   "id": "8ca1f2f2",
   "metadata": {},
   "outputs": [
    {
     "name": "stdout",
     "output_type": "stream",
     "text": [
      "Enter the number 0 :\n",
      "6\n",
      "Enter the number 1 :\n",
      "8\n",
      "Enter the number 2 :\n",
      "10\n",
      "Enter the number 3 :\n",
      "9\n",
      "Enter the number 4 :\n",
      "5\n",
      "Enter the number 5 :\n",
      "11\n",
      "Enter the number 6 :\n",
      "64\n",
      "Set-B is: {64, 5, 6, 8, 9, 10, 11}\n"
     ]
    }
   ],
   "source": [
    "set_b = set()\n",
    "for i in range(0,b):\n",
    "    print(\"Enter the number\",i,\":\")\n",
    "    number = int(input())\n",
    "    set_b.add(number)\n",
    "print(\"Set-B is:\",set_b)"
   ]
  },
  {
   "cell_type": "markdown",
   "id": "a965815f",
   "metadata": {},
   "source": [
    "<h2>Set operations</h2>"
   ]
  },
  {
   "cell_type": "code",
   "execution_count": 18,
   "id": "fb57f9c2",
   "metadata": {},
   "outputs": [
    {
     "data": {
      "text/plain": [
       "{5, 6, 7, 8, 9, 10, 11, 64}"
      ]
     },
     "execution_count": 18,
     "metadata": {},
     "output_type": "execute_result"
    }
   ],
   "source": [
    "set_a|set_b #Union of two sets"
   ]
  },
  {
   "cell_type": "code",
   "execution_count": 19,
   "id": "8384a4b7",
   "metadata": {},
   "outputs": [
    {
     "data": {
      "text/plain": [
       "{5, 6, 8, 9}"
      ]
     },
     "execution_count": 19,
     "metadata": {},
     "output_type": "execute_result"
    }
   ],
   "source": [
    "set_a & set_b #Intersection of two sets"
   ]
  },
  {
   "cell_type": "code",
   "execution_count": 20,
   "id": "97845973",
   "metadata": {},
   "outputs": [
    {
     "data": {
      "text/plain": [
       "{7}"
      ]
     },
     "execution_count": 20,
     "metadata": {},
     "output_type": "execute_result"
    }
   ],
   "source": [
    "set_a - set_b #Difference between two sets"
   ]
  },
  {
   "cell_type": "code",
   "execution_count": 21,
   "id": "9746db5f",
   "metadata": {},
   "outputs": [
    {
     "data": {
      "text/plain": [
       "{7, 10, 11, 64}"
      ]
     },
     "execution_count": 21,
     "metadata": {},
     "output_type": "execute_result"
    }
   ],
   "source": [
    "set_a ^ set_b #Symmetric difference between two sets"
   ]
  }
 ],
 "metadata": {
  "kernelspec": {
   "display_name": "Python 3 (ipykernel)",
   "language": "python",
   "name": "python3"
  },
  "language_info": {
   "codemirror_mode": {
    "name": "ipython",
    "version": 3
   },
   "file_extension": ".py",
   "mimetype": "text/x-python",
   "name": "python",
   "nbconvert_exporter": "python",
   "pygments_lexer": "ipython3",
   "version": "3.9.7"
  }
 },
 "nbformat": 4,
 "nbformat_minor": 5
}
