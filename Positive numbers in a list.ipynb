{
 "cells": [
  {
   "cell_type": "markdown",
   "id": "3eac2721",
   "metadata": {},
   "source": [
    "Getting the list of numbers"
   ]
  },
  {
   "cell_type": "code",
   "execution_count": 5,
   "id": "30a36ec2",
   "metadata": {},
   "outputs": [
    {
     "name": "stdout",
     "output_type": "stream",
     "text": [
      "Enter the no. of elements in your list:5\n",
      "Enter the elements:\n",
      "12\n",
      "-7\n",
      "4\n",
      "64\n",
      "-14\n"
     ]
    },
    {
     "data": {
      "text/plain": [
       "[12, -7, 4, 64, -14]"
      ]
     },
     "execution_count": 5,
     "metadata": {},
     "output_type": "execute_result"
    }
   ],
   "source": [
    "n = int(input('Enter the no. of elements in your list:'))\n",
    "\n",
    "num = []\n",
    "\n",
    "print('Enter the elements:')\n",
    "for i in range(0,n):\n",
    "    elements = int(input())\n",
    "    num.append(elements)\n",
    "\n",
    "num"
   ]
  },
  {
   "cell_type": "markdown",
   "id": "38e30b47",
   "metadata": {},
   "source": [
    "Getting the positive numbers from the list"
   ]
  },
  {
   "cell_type": "code",
   "execution_count": 6,
   "id": "d599b846",
   "metadata": {},
   "outputs": [
    {
     "data": {
      "text/plain": [
       "[12, 4, 64]"
      ]
     },
     "execution_count": 6,
     "metadata": {},
     "output_type": "execute_result"
    }
   ],
   "source": [
    "pos_num = []\n",
    "\n",
    "for i in range(0,n):\n",
    "    if num[i] > 0:\n",
    "        pos_num.append(num[i])\n",
    "    else:\n",
    "        pass\n",
    "pos_num"
   ]
  }
 ],
 "metadata": {
  "kernelspec": {
   "display_name": "Python 3 (ipykernel)",
   "language": "python",
   "name": "python3"
  },
  "language_info": {
   "codemirror_mode": {
    "name": "ipython",
    "version": 3
   },
   "file_extension": ".py",
   "mimetype": "text/x-python",
   "name": "python",
   "nbconvert_exporter": "python",
   "pygments_lexer": "ipython3",
   "version": "3.9.7"
  }
 },
 "nbformat": 4,
 "nbformat_minor": 5
}
